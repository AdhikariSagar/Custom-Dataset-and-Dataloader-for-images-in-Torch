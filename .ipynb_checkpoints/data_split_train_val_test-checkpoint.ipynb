{
 "cells": [
  {
   "cell_type": "code",
   "execution_count": 1,
   "id": "1f59e05f",
   "metadata": {},
   "outputs": [],
   "source": [
    "import os\n",
    "import shutil\n",
    "import glob\n",
    "import numpy as np\n",
    "import pandas as pd"
   ]
  },
  {
   "cell_type": "code",
   "execution_count": 2,
   "id": "1ea8849a",
   "metadata": {},
   "outputs": [
    {
     "data": {
      "text/plain": [
       "'D:\\\\MachineLearning\\\\DATA\\\\Custom-Dataset-and-Dataloader-for-images-in-Torch'"
      ]
     },
     "execution_count": 2,
     "metadata": {},
     "output_type": "execute_result"
    }
   ],
   "source": [
    "pwd"
   ]
  },
  {
   "cell_type": "code",
   "execution_count": 2,
   "id": "45397e00",
   "metadata": {},
   "outputs": [],
   "source": [
    "data_dir = r'/home/jovyan/work/Project/Anomaly_Detection/Dataset/Malaria/cell_images/'\n",
    "to_created_dir = r'/home/jovyan/work/Project/Anomaly_Detection/Dataset/Malaria/images/'"
   ]
  },
  {
   "cell_type": "markdown",
   "id": "c7667dda",
   "metadata": {},
   "source": [
    "main_directory/ <br>\n",
    "------------train/<br>\n",
    "----------------class_a/ <br>\n",
    "---------------------a_image_1.jpg <br>\n",
    "---------------------a_image_2.jpg <br>\n",
    "----------------class_b/ <br>\n",
    "---------------------b_image_1.jpg <br>\n",
    "---------------------b_image_2.jpg <br>\n",
    "------------val/<br>\n",
    "----------------class_a/ <br>\n",
    "---------------------a_image_1.jpg <br>\n",
    "---------------------a_image_2.jpg <br>\n",
    "----------------class_b/ <br>\n",
    "---------------------b_image_1.jpg <br>\n",
    "---------------------b_image_2.jpg <br>\n",
    "------------test/<br>\n",
    "----------------class_a/ <br>\n",
    "---------------------a_image_1.jpg <br>\n",
    "---------------------a_image_2.jpg <br>\n",
    "----------------class_b/ <br>\n",
    "---------------------b_image_1.jpg <br>\n",
    "---------------------b_image_2.jpg <br>\n"
   ]
  },
  {
   "cell_type": "code",
   "execution_count": 3,
   "id": "b4af6b7f",
   "metadata": {},
   "outputs": [
    {
     "name": "stdout",
     "output_type": "stream",
     "text": [
      "Parasitized\n",
      "Uninfected\n"
     ]
    }
   ],
   "source": [
    "file_types = []\n",
    "for file in (os.listdir(data_dir)):\n",
    "    #print(file)\n",
    "    file_type = file\n",
    "    if file_type not in file_types:\n",
    "            print(file_type)\n",
    "            file_types.append(file_type)\n",
    "            #os.makedirs(target + '\\\\' + file_type)\n",
    "    \n",
    "        "
   ]
  },
  {
   "cell_type": "code",
   "execution_count": 10,
   "id": "23427ff4",
   "metadata": {},
   "outputs": [],
   "source": [
    "def train_test_split(source, target):\n",
    "    print('##### Train Test Split Script #####')\n",
    "    root_dir = target\n",
    "    classes_dir = ['Uninfected', 'Parasitized']\n",
    "    \n",
    "    test_ratio = 0.2\n",
    "    val_ratio = 0.1\n",
    "    \n",
    "    for cls in classes_dir:\n",
    "        # Create partitions of data after shuffling\n",
    "        print('$$$ Class Name ' + cls + ' $$$')\n",
    "        src = os.path.join(source,cls) # Folder to copy imaged from\n",
    "        allFileNames = glob.glob(src + '/*.png')\n",
    "        np.random.seed(5)\n",
    "        np.random.shuffle(allFileNames)\n",
    "        train_FileNames, val_FileNames, test_FileNames = np.split(np.array(allFileNames),\n",
    "                                                                  [int(len(allFileNames) * (1 - (test_ratio + val_ratio))),\n",
    "                                                                   int(len(allFileNames) * (1 -  test_ratio)), ])\n",
    "                                                                   \n",
    "#         train_FileNames = [train_FileNames]\n",
    "#         test_FileNames = [val_FileNames]\n",
    "#         val_FileNames = [test_FileNames]\n",
    "        \n",
    "        print('Total images: '+ str(len(allFileNames)))\n",
    "        print('Training: '+ str(len(train_FileNames)))\n",
    "        print('Validation: '+ str(len(val_FileNames)))\n",
    "        print('Testing: '+ str(len(test_FileNames)))\n",
    "       \n",
    "        \n",
    "        # Create Train/Test/Val folders\n",
    "        path_train =  os.path.join(root_dir,'train',cls)\n",
    "        path_valid =  os.path.join(root_dir,'valid',cls)\n",
    "        path_test =  os.path.join(root_dir,'test',cls)\n",
    "\n",
    "    \n",
    "        if not os.path.exists(path_train):\n",
    "            !mkdir -p {path_train}\n",
    "\n",
    "        if not os.path.exists(path_valid):\n",
    "            !mkdir -p {path_valid}\n",
    "\n",
    "        if not os.path.exists(path_test):\n",
    "            !mkdir -p {path_test}\n",
    "        \n",
    "        \n",
    "        # Copy-Pasting images\n",
    "        for name in train_FileNames:\n",
    "            shutil.copy(name, path_train)\n",
    "\n",
    "        for name in val_FileNames:\n",
    "            shutil.copy(name, path_valid)\n",
    "\n",
    "        for name in test_FileNames:\n",
    "            shutil.copy(name, path_test)\n",
    "\n",
    "        \n",
    "        \n",
    "        \n",
    "    diret = os.path.join(root_dir,'train','Parasitized')\n",
    "    desti = os.path.join(root_dir,'test','Parasitized')\n",
    "    for f in os.listdir(diret):\n",
    "        src_path = os.path.join(diret, f)\n",
    "        dst_path = os.path.join(desti, f)\n",
    "        shutil.move(src_path, dst_path)\n",
    "    #os.rmdir(diret)\n",
    "    \n",
    "        \n",
    "    \n",
    "    print(\"##### Train Test Val Script Ended #####\")\n",
    "        "
   ]
  },
  {
   "cell_type": "code",
   "execution_count": 11,
   "id": "0adace54",
   "metadata": {},
   "outputs": [
    {
     "name": "stdout",
     "output_type": "stream",
     "text": [
      "##### Train Test Split Script #####\n",
      "$$$ Class Name Uninfected $$$\n",
      "Total images: 13779\n",
      "Training: 9645\n",
      "Validation: 1378\n",
      "Testing: 2756\n",
      "$$$ Class Name Parasitized $$$\n",
      "Total images: 13779\n",
      "Training: 9645\n",
      "Validation: 1378\n",
      "Testing: 2756\n",
      "##### Train Test Val Script Ended #####\n"
     ]
    }
   ],
   "source": [
    "train_test_split(data_dir, to_created_dir)"
   ]
  },
  {
   "cell_type": "code",
   "execution_count": 15,
   "id": "55528bb8",
   "metadata": {},
   "outputs": [],
   "source": [
    "data_dir = r'/home/jovyan/work/Project/Anomaly_Detection/Dataset/Malaria/cell_images/'\n",
    "to_created_r = r'/home/jovyan/work/Project/Anomaly_Detection/Dataset/Malaria/images/train/Parasitized'"
   ]
  },
  {
   "cell_type": "code",
   "execution_count": 16,
   "id": "7c523ac4",
   "metadata": {},
   "outputs": [
    {
     "data": {
      "text/plain": [
       "0"
      ]
     },
     "execution_count": 16,
     "metadata": {},
     "output_type": "execute_result"
    }
   ],
   "source": [
    "len(os.listdir(to_created_r))"
   ]
  },
  {
   "cell_type": "code",
   "execution_count": 14,
   "id": "fe315e02",
   "metadata": {},
   "outputs": [],
   "source": [
    "train_path =  r'/home/jovyan/work/Project/Anomaly_Detection/Dataset/Malaria/images/train/'"
   ]
  },
  {
   "cell_type": "code",
   "execution_count": 9,
   "id": "d398fe8d",
   "metadata": {},
   "outputs": [
    {
     "name": "stdout",
     "output_type": "stream",
     "text": [
      "Uninfected\n"
     ]
    }
   ],
   "source": [
    "filenames = os.listdir(train_path)\n",
    "categories = []\n",
    "for filename in filenames:\n",
    "    print(filename)"
   ]
  },
  {
   "cell_type": "code",
   "execution_count": null,
   "id": "174a63ef",
   "metadata": {},
   "outputs": [],
   "source": []
  }
 ],
 "metadata": {
  "kernelspec": {
   "display_name": "Python 3 (ipykernel)",
   "language": "python",
   "name": "python3"
  },
  "language_info": {
   "codemirror_mode": {
    "name": "ipython",
    "version": 3
   },
   "file_extension": ".py",
   "mimetype": "text/x-python",
   "name": "python",
   "nbconvert_exporter": "python",
   "pygments_lexer": "ipython3",
   "version": "3.8.13"
  }
 },
 "nbformat": 4,
 "nbformat_minor": 5
}
