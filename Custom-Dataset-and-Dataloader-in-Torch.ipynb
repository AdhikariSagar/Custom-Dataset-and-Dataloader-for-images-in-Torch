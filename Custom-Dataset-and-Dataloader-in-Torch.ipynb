{
 "cells": [
  {
   "cell_type": "markdown",
   "id": "7745fb38",
   "metadata": {},
   "source": [
    "## How to load images from directory with appropriate class in pytorch? mainly for vae autoencoder \n",
    "### directory structure is:"
   ]
  },
  {
   "cell_type": "markdown",
   "id": "94f4aee0",
   "metadata": {},
   "source": [
    "main_directory/ <br>\n",
    "------------train/<br>\n",
    "----------------class_a/ <br>\n",
    "---------------------a_image_1.jpg <br>\n",
    "---------------------a_image_2.jpg <br>\n",
    "----------------class_b/ <br>\n",
    "---------------------b_image_1.jpg <br>\n",
    "---------------------b_image_2.jpg <br>\n",
    "------------val/<br>\n",
    "----------------class_a/ <br>\n",
    "---------------------a_image_1.jpg <br>\n",
    "---------------------a_image_2.jpg <br>\n",
    "----------------class_b/ <br>\n",
    "---------------------b_image_1.jpg <br>\n",
    "---------------------b_image_2.jpg <br>\n",
    "------------test/<br>\n",
    "----------------class_a/ <br>\n",
    "---------------------a_image_1.jpg <br>\n",
    "---------------------a_image_2.jpg <br>\n",
    "----------------class_b/ <br>\n",
    "---------------------b_image_1.jpg <br>\n",
    "---------------------b_image_2.jpg <br>\n"
   ]
  },
  {
   "cell_type": "markdown",
   "id": "eae7c776",
   "metadata": {},
   "source": [
    "### Imports"
   ]
  },
  {
   "cell_type": "code",
   "execution_count": 1,
   "id": "1b7c968f",
   "metadata": {},
   "outputs": [],
   "source": [
    "from torch.utils.data import DataLoader, Dataset\n",
    "from matplotlib import pyplot as plt\n",
    "from torchvision import transforms\n",
    "import cv2 as cv\n",
    "import torch\n",
    "import glob\n",
    "import os "
   ]
  },
  {
   "cell_type": "markdown",
   "id": "56d027df",
   "metadata": {},
   "source": [
    "### Prepare the paths for loading the images"
   ]
  },
  {
   "cell_type": "code",
   "execution_count": 2,
   "id": "a802a735",
   "metadata": {},
   "outputs": [],
   "source": [
    "data_dir = r'./CatsDogs/'\n",
    "train_data_dir = data_dir + 'train' \n",
    "validation_data_dir = data_dir + 'valid' \n",
    "test_data_dir = data_dir + 'test' "
   ]
  },
  {
   "cell_type": "markdown",
   "id": "b02d28c6",
   "metadata": {},
   "source": [
    "### Building a Custom dataset that read images."
   ]
  },
  {
   "cell_type": "code",
   "execution_count": 3,
   "id": "1c4e1347",
   "metadata": {},
   "outputs": [],
   "source": [
    "class yourCustomDatasets(Dataset):\n",
    "   \n",
    "    def __init__(self, root_dir, transform=None):\n",
    "        self.root_dir = root_dir\n",
    "        self.transform = transform\n",
    "        self.classes = ['cats', 'dogs']\n",
    "        self.file_list = []\n",
    "        for c in self.classes:\n",
    "            c_dir = os.path.join(self.root_dir, c)\n",
    "            for file in glob.glob(c_dir+'/*.png'):\n",
    "                self.file_list.append([file, self.classes.index(c)])\n",
    "                                      \n",
    "    def __getitem__(self, idx):\n",
    "\n",
    "        # Read Image using cv im grayscale\n",
    "        image_path, label = self.file_list[idx]\n",
    "        image = cv.imread(image_path, cv.COLOR_BGR2RGB)\n",
    "        image = image.transpose(2,0,1) # image type till hier ndarray\n",
    "        image = torch.from_numpy(image)\n",
    "        image =  self.transform(image)\n",
    "        #print(image.shape)\n",
    "        \n",
    "        return image, label\n",
    "      \n",
    "    \n",
    "    def __len__(self):\n",
    "        return len(self.file_list)"
   ]
  },
  {
   "cell_type": "markdown",
   "id": "d3fc218d",
   "metadata": {},
   "source": [
    "### Transformation"
   ]
  },
  {
   "cell_type": "code",
   "execution_count": 4,
   "id": "2743704b",
   "metadata": {},
   "outputs": [],
   "source": [
    "# transform data with out mean_std normaization\n",
    "train_transforms = transforms.Compose([\n",
    "    transforms.ToPILImage(),\n",
    "    transforms.Resize((128,128)),\n",
    "    transforms.RandomHorizontalFlip(),\n",
    "    transforms.ToTensor(), \n",
    "    #transforms.Normalize(mean=mean, std=std)\n",
    "])\n",
    "test_transforms = transforms.Compose([\n",
    "    transforms.ToPILImage(),\n",
    "    transforms.Resize((128,128)),\n",
    "    #transforms.RandomHorizontalFlip(),\n",
    "    transforms.ToTensor(), \n",
    "    #transforms.Normalize(mean=mean, std=std)\n",
    "])\n",
    "#train_data = torchvision.datasets.ImageFolder(root= train_data_dir,transform=train_transforms)"
   ]
  },
  {
   "cell_type": "markdown",
   "id": "168ec0b7",
   "metadata": {},
   "source": [
    "### Import image using Custom DataLoader "
   ]
  },
  {
   "cell_type": "code",
   "execution_count": 5,
   "id": "69167159",
   "metadata": {},
   "outputs": [],
   "source": [
    "train_dataLoader = DataLoader(dataset= yourCustomDatasets(train_data_dir,transform=train_transforms), batch_size=64)\n",
    "valid_dataLoader = DataLoader(dataset= yourCustomDatasets(validation_data_dir,transform=train_transforms), batch_size=64)\n",
    "test_dataLoader = DataLoader(dataset= yourCustomDatasets(test_data_dir,transform=test_transforms), batch_size=64)"
   ]
  },
  {
   "cell_type": "markdown",
   "id": "44a8a23f",
   "metadata": {},
   "source": [
    "### Displays images "
   ]
  },
  {
   "cell_type": "code",
   "execution_count": null,
   "id": "eafc2456",
   "metadata": {},
   "outputs": [],
   "source": [
    "# show patches of respective image\n",
    "images, _ = next(iter(train_dataLoader))\n",
    "\n",
    "rows = 1\n",
    "cols = 5\n",
    "fig=plt.figure(figsize=(15, 15), dpi=100)\n",
    "for j in range(0, cols*rows):\n",
    "    fig.add_subplot(rows, cols, j+1)\n",
    "    #fig.subplots_adjust(hspace=0.0, wspace=0.5)\n",
    "    plt.imshow(images[j].permute(2, 1, 0), cmap='gray')\n",
    "    #print(images[j].shape)\n",
    "    plt.title((j+1))\n",
    "    plt.axis('off')\n",
    "plt.show()"
   ]
  }
 ],
 "metadata": {
  "kernelspec": {
   "display_name": "Python 3 (ipykernel)",
   "language": "python",
   "name": "python3"
  },
  "language_info": {
   "codemirror_mode": {
    "name": "ipython",
    "version": 3
   },
   "file_extension": ".py",
   "mimetype": "text/x-python",
   "name": "python",
   "nbconvert_exporter": "python",
   "pygments_lexer": "ipython3",
   "version": "3.8.13"
  }
 },
 "nbformat": 4,
 "nbformat_minor": 5
}
